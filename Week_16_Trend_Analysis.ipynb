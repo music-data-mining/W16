{
  "nbformat": 4,
  "nbformat_minor": 0,
  "metadata": {
    "colab": {
      "provenance": []
    },
    "kernelspec": {
      "name": "python3",
      "display_name": "Python 3"
    }
  },
  "cells": [
    {
      "cell_type": "markdown",
      "source": [
        "# Week 16 Trend Analyis"
      ],
      "metadata": {
        "id": "PRW8GfL2a_rS"
      }
    },
    {
      "cell_type": "code",
      "metadata": {
        "id": "Wj8uraldHC1s",
        "outputId": "b3f642a1-1269-43c6-af96-12cac3ca62e9",
        "colab": {
          "base_uri": "https://localhost:8080/"
        }
      },
      "source": [
        "import os\n",
        "# the datasets we will using this week are \n",
        "# 1) billboard_lyrics_1964-2015.csv and 2) Concreteness_ratings_Brysbaert_et_al_BRM.txt\n",
        "\n",
        "if os.path.exists('W16'): \n",
        "    !rm -fr 'W16/'\n",
        "!git clone https://github.com/music-data-mining/W16.git\n",
        "%cd W16"
      ],
      "execution_count": null,
      "outputs": [
        {
          "output_type": "stream",
          "name": "stdout",
          "text": [
            "Cloning into 'W16'...\n",
            "remote: Enumerating objects: 9, done.\u001b[K\n",
            "remote: Counting objects: 100% (9/9), done.\u001b[K\n",
            "remote: Compressing objects: 100% (9/9), done.\u001b[K\n",
            "remote: Total 9 (delta 2), reused 7 (delta 0), pack-reused 0\u001b[K\n",
            "Unpacking objects: 100% (9/9), done.\n",
            "/content/W16/W16\n"
          ]
        }
      ]
    },
    {
      "cell_type": "markdown",
      "source": [
        "# New Section"
      ],
      "metadata": {
        "id": "7WIUxEpIjfMT"
      }
    },
    {
      "cell_type": "code",
      "metadata": {
        "id": "y97FUYcxrz0b"
      },
      "source": [
        "# install spacy, an super useful nlp library\n",
        "!pip install -Uq spacy"
      ],
      "execution_count": null,
      "outputs": []
    },
    {
      "cell_type": "code",
      "source": [
        "import spacy\n",
        "import numpy as np\n",
        "import pandas as pd\n",
        "import matplotlib.pyplot as plt"
      ],
      "metadata": {
        "id": "7IQ8npZMbqrW"
      },
      "execution_count": null,
      "outputs": []
    },
    {
      "cell_type": "code",
      "metadata": {
        "id": "r-JAKuNp_OhV",
        "outputId": "19d95bef-2636-451f-d182-7c74dbd68d2e",
        "colab": {
          "base_uri": "https://localhost:8080/"
        }
      },
      "source": [
        "text = \"Yesterday all my troubles seemed so far away. Now it looks as though they're here to stay. Oh, I believe in yesterday. \\\n",
        "Suddenly, I'm not half the man I used to be. There's a shadow hanging over me. Oh, yesterday came suddenly.\"\n",
        "\n",
        "# Initialize spacy 'en' model, keeping only tagger component needed for lemmatization\n",
        "# what is lemmatisation? Lemmatisation is the process of grouping together the inflected forms of a word so they can be analysed as a single item, identified by the word's lemma, or dictionary form.\n",
        "nlp = spacy.load('en_core_web_sm', disable=['parser', 'ner']) # https://spacy.io/models/en#en_core_web_sm\n",
        "\n",
        "doc = nlp(text)\n",
        "\n",
        "# we can parse the text and get lemmatization, part-of-speech, and whether a stop word for each parsed token (yes, not word, let's call it a token)\n",
        "for token in doc:\n",
        "  print(token.text, token.lemma_, token.pos_, token.is_stop)\n",
        "  # print(token.text, token.lemma_, token.pos_, token.tag_, token.dep_, \n",
        "        # token.shape_, token.is_alpha, token.is_stop)"
      ],
      "execution_count": null,
      "outputs": [
        {
          "output_type": "stream",
          "name": "stdout",
          "text": [
            "Yesterday yesterday NOUN False\n",
            "all all DET True\n",
            "my my PRON True\n",
            "troubles trouble NOUN False\n",
            "seemed seem VERB True\n",
            "so so ADV True\n",
            "far far ADV False\n",
            "away away ADV False\n",
            ". . PUNCT False\n",
            "Now now ADV True\n",
            "it it PRON True\n",
            "looks look VERB False\n",
            "as as ADP True\n",
            "though though SCONJ True\n",
            "they they PRON True\n",
            "'re be AUX True\n",
            "here here ADV True\n",
            "to to PART True\n",
            "stay stay VERB False\n",
            ". . PUNCT False\n",
            "Oh oh INTJ False\n",
            ", , PUNCT False\n",
            "I I PRON True\n",
            "believe believe VERB False\n",
            "in in ADP True\n",
            "yesterday yesterday NOUN False\n",
            ". . PUNCT False\n",
            "Suddenly suddenly ADV False\n",
            ", , PUNCT False\n",
            "I I PRON True\n",
            "'m be AUX True\n",
            "not not PART True\n",
            "half half DET False\n",
            "the the DET True\n",
            "man man NOUN False\n",
            "I I PRON True\n",
            "used use VERB True\n",
            "to to PART True\n",
            "be be AUX True\n",
            ". . PUNCT False\n",
            "There there PRON True\n",
            "'s be AUX True\n",
            "a a DET True\n",
            "shadow shadow NOUN False\n",
            "hanging hang VERB False\n",
            "over over ADP True\n",
            "me I PRON True\n",
            ". . PUNCT False\n",
            "Oh oh INTJ False\n",
            ", , PUNCT False\n",
            "yesterday yesterday NOUN False\n",
            "came come VERB False\n",
            "suddenly suddenly ADV False\n",
            ". . PUNCT False\n"
          ]
        }
      ]
    },
    {
      "cell_type": "code",
      "metadata": {
        "id": "C8ubM2BqsJKu",
        "colab": {
          "base_uri": "https://localhost:8080/"
        },
        "outputId": "f260345e-9430-4009-b7c7-b10c43b44824"
      },
      "source": [
        "# let's extract lemmatized words and eliminate punctionations\n",
        "lemmatized_words =[]\n",
        "for token in doc:\n",
        "  if token.pos_ == 'PUNCT':\n",
        "    pass\n",
        "  else:\n",
        "    lemmatized_words.append(token.lemma_)\n",
        "print(lemmatized_words)"
      ],
      "execution_count": null,
      "outputs": [
        {
          "output_type": "stream",
          "name": "stdout",
          "text": [
            "['yesterday', 'all', 'my', 'trouble', 'seem', 'so', 'far', 'away', 'now', 'it', 'look', 'as', 'though', 'they', 'be', 'here', 'to', 'stay', 'oh', 'I', 'believe', 'in', 'yesterday', 'suddenly', 'I', 'be', 'not', 'half', 'the', 'man', 'I', 'use', 'to', 'be', 'there', 'be', 'a', 'shadow', 'hang', 'over', 'I', 'oh', 'yesterday', 'come', 'suddenly']\n"
          ]
        }
      ]
    },
    {
      "cell_type": "code",
      "metadata": {
        "id": "dpXWlAuDChk_"
      },
      "source": [
        "df = pd.read_csv('billboard_lyrics_1964-2015.csv', encoding='latin-1')"
      ],
      "execution_count": null,
      "outputs": []
    },
    {
      "cell_type": "code",
      "metadata": {
        "id": "FwxtxQYExtvu",
        "outputId": "b6cd97a5-a76b-47ed-cf41-f6ad3123e4fc",
        "colab": {
          "base_uri": "https://localhost:8080/",
          "height": 206
        }
      },
      "source": [
        "# how does billboard_lyrics_1964-2015.csv look like\n",
        "df.head()"
      ],
      "execution_count": null,
      "outputs": [
        {
          "output_type": "execute_result",
          "data": {
            "text/plain": [
              "   Rank                                      Song  \\\n",
              "0     1                               wooly bully   \n",
              "1     2  i cant help myself sugar pie honey bunch   \n",
              "2     3                i cant get no satisfaction   \n",
              "3     4                       you were on my mind   \n",
              "4     5              youve lost that lovin feelin   \n",
              "\n",
              "                          Artist  Year  \\\n",
              "0  sam the sham and the pharaohs  1965   \n",
              "1                      four tops  1965   \n",
              "2             the rolling stones  1965   \n",
              "3                        we five  1965   \n",
              "4         the righteous brothers  1965   \n",
              "\n",
              "                                              Lyrics  Source  \n",
              "0  sam the sham miscellaneous wooly bully wooly b...     3.0  \n",
              "1   sugar pie honey bunch you know that i love yo...     1.0  \n",
              "2                                                        1.0  \n",
              "3   when i woke up this morning you were on my mi...     1.0  \n",
              "4   you never close your eyes anymore when i kiss...     1.0  "
            ],
            "text/html": [
              "\n",
              "  <div id=\"df-667ec6db-4e8e-477e-ad09-f1d8bcc8721b\">\n",
              "    <div class=\"colab-df-container\">\n",
              "      <div>\n",
              "<style scoped>\n",
              "    .dataframe tbody tr th:only-of-type {\n",
              "        vertical-align: middle;\n",
              "    }\n",
              "\n",
              "    .dataframe tbody tr th {\n",
              "        vertical-align: top;\n",
              "    }\n",
              "\n",
              "    .dataframe thead th {\n",
              "        text-align: right;\n",
              "    }\n",
              "</style>\n",
              "<table border=\"1\" class=\"dataframe\">\n",
              "  <thead>\n",
              "    <tr style=\"text-align: right;\">\n",
              "      <th></th>\n",
              "      <th>Rank</th>\n",
              "      <th>Song</th>\n",
              "      <th>Artist</th>\n",
              "      <th>Year</th>\n",
              "      <th>Lyrics</th>\n",
              "      <th>Source</th>\n",
              "    </tr>\n",
              "  </thead>\n",
              "  <tbody>\n",
              "    <tr>\n",
              "      <th>0</th>\n",
              "      <td>1</td>\n",
              "      <td>wooly bully</td>\n",
              "      <td>sam the sham and the pharaohs</td>\n",
              "      <td>1965</td>\n",
              "      <td>sam the sham miscellaneous wooly bully wooly b...</td>\n",
              "      <td>3.0</td>\n",
              "    </tr>\n",
              "    <tr>\n",
              "      <th>1</th>\n",
              "      <td>2</td>\n",
              "      <td>i cant help myself sugar pie honey bunch</td>\n",
              "      <td>four tops</td>\n",
              "      <td>1965</td>\n",
              "      <td>sugar pie honey bunch you know that i love yo...</td>\n",
              "      <td>1.0</td>\n",
              "    </tr>\n",
              "    <tr>\n",
              "      <th>2</th>\n",
              "      <td>3</td>\n",
              "      <td>i cant get no satisfaction</td>\n",
              "      <td>the rolling stones</td>\n",
              "      <td>1965</td>\n",
              "      <td></td>\n",
              "      <td>1.0</td>\n",
              "    </tr>\n",
              "    <tr>\n",
              "      <th>3</th>\n",
              "      <td>4</td>\n",
              "      <td>you were on my mind</td>\n",
              "      <td>we five</td>\n",
              "      <td>1965</td>\n",
              "      <td>when i woke up this morning you were on my mi...</td>\n",
              "      <td>1.0</td>\n",
              "    </tr>\n",
              "    <tr>\n",
              "      <th>4</th>\n",
              "      <td>5</td>\n",
              "      <td>youve lost that lovin feelin</td>\n",
              "      <td>the righteous brothers</td>\n",
              "      <td>1965</td>\n",
              "      <td>you never close your eyes anymore when i kiss...</td>\n",
              "      <td>1.0</td>\n",
              "    </tr>\n",
              "  </tbody>\n",
              "</table>\n",
              "</div>\n",
              "      <button class=\"colab-df-convert\" onclick=\"convertToInteractive('df-667ec6db-4e8e-477e-ad09-f1d8bcc8721b')\"\n",
              "              title=\"Convert this dataframe to an interactive table.\"\n",
              "              style=\"display:none;\">\n",
              "        \n",
              "  <svg xmlns=\"http://www.w3.org/2000/svg\" height=\"24px\"viewBox=\"0 0 24 24\"\n",
              "       width=\"24px\">\n",
              "    <path d=\"M0 0h24v24H0V0z\" fill=\"none\"/>\n",
              "    <path d=\"M18.56 5.44l.94 2.06.94-2.06 2.06-.94-2.06-.94-.94-2.06-.94 2.06-2.06.94zm-11 1L8.5 8.5l.94-2.06 2.06-.94-2.06-.94L8.5 2.5l-.94 2.06-2.06.94zm10 10l.94 2.06.94-2.06 2.06-.94-2.06-.94-.94-2.06-.94 2.06-2.06.94z\"/><path d=\"M17.41 7.96l-1.37-1.37c-.4-.4-.92-.59-1.43-.59-.52 0-1.04.2-1.43.59L10.3 9.45l-7.72 7.72c-.78.78-.78 2.05 0 2.83L4 21.41c.39.39.9.59 1.41.59.51 0 1.02-.2 1.41-.59l7.78-7.78 2.81-2.81c.8-.78.8-2.07 0-2.86zM5.41 20L4 18.59l7.72-7.72 1.47 1.35L5.41 20z\"/>\n",
              "  </svg>\n",
              "      </button>\n",
              "      \n",
              "  <style>\n",
              "    .colab-df-container {\n",
              "      display:flex;\n",
              "      flex-wrap:wrap;\n",
              "      gap: 12px;\n",
              "    }\n",
              "\n",
              "    .colab-df-convert {\n",
              "      background-color: #E8F0FE;\n",
              "      border: none;\n",
              "      border-radius: 50%;\n",
              "      cursor: pointer;\n",
              "      display: none;\n",
              "      fill: #1967D2;\n",
              "      height: 32px;\n",
              "      padding: 0 0 0 0;\n",
              "      width: 32px;\n",
              "    }\n",
              "\n",
              "    .colab-df-convert:hover {\n",
              "      background-color: #E2EBFA;\n",
              "      box-shadow: 0px 1px 2px rgba(60, 64, 67, 0.3), 0px 1px 3px 1px rgba(60, 64, 67, 0.15);\n",
              "      fill: #174EA6;\n",
              "    }\n",
              "\n",
              "    [theme=dark] .colab-df-convert {\n",
              "      background-color: #3B4455;\n",
              "      fill: #D2E3FC;\n",
              "    }\n",
              "\n",
              "    [theme=dark] .colab-df-convert:hover {\n",
              "      background-color: #434B5C;\n",
              "      box-shadow: 0px 1px 3px 1px rgba(0, 0, 0, 0.15);\n",
              "      filter: drop-shadow(0px 1px 2px rgba(0, 0, 0, 0.3));\n",
              "      fill: #FFFFFF;\n",
              "    }\n",
              "  </style>\n",
              "\n",
              "      <script>\n",
              "        const buttonEl =\n",
              "          document.querySelector('#df-667ec6db-4e8e-477e-ad09-f1d8bcc8721b button.colab-df-convert');\n",
              "        buttonEl.style.display =\n",
              "          google.colab.kernel.accessAllowed ? 'block' : 'none';\n",
              "\n",
              "        async function convertToInteractive(key) {\n",
              "          const element = document.querySelector('#df-667ec6db-4e8e-477e-ad09-f1d8bcc8721b');\n",
              "          const dataTable =\n",
              "            await google.colab.kernel.invokeFunction('convertToInteractive',\n",
              "                                                     [key], {});\n",
              "          if (!dataTable) return;\n",
              "\n",
              "          const docLinkHtml = 'Like what you see? Visit the ' +\n",
              "            '<a target=\"_blank\" href=https://colab.research.google.com/notebooks/data_table.ipynb>data table notebook</a>'\n",
              "            + ' to learn more about interactive tables.';\n",
              "          element.innerHTML = '';\n",
              "          dataTable['output_type'] = 'display_data';\n",
              "          await google.colab.output.renderOutput(dataTable, element);\n",
              "          const docLink = document.createElement('div');\n",
              "          docLink.innerHTML = docLinkHtml;\n",
              "          element.appendChild(docLink);\n",
              "        }\n",
              "      </script>\n",
              "    </div>\n",
              "  </div>\n",
              "  "
            ]
          },
          "metadata": {},
          "execution_count": 25
        }
      ]
    },
    {
      "cell_type": "code",
      "metadata": {
        "id": "92dcBheiE7Ii"
      },
      "source": [
        "# extract lemmatized lyrics from each song\n",
        "lemmatized_lyrics=[]\n",
        "year=[]\n",
        "for i in range(len(df['Lyrics'])):\n",
        "  if type(df['Lyrics'][i]) is not str:\n",
        "    continue\n",
        "  elif len(df['Lyrics'][i]) < 20:\n",
        "    continue\n",
        "  else:    \n",
        "    lemmatized_lyrics.append([])\n",
        "    doc = nlp(df['Lyrics'][i])\n",
        "\n",
        "    for token in doc:\n",
        "      if token.pos_ == 'PUNCT':\n",
        "        continue\n",
        "      elif token.text == ' ':\n",
        "        continue  \n",
        "      elif token.text == '  ':\n",
        "        continue    \n",
        "      else:\n",
        "        lemmatized_lyrics[-1].append(token.lemma_)\n",
        "    # print(lemmatized_lyrics[-1])\n",
        "    year.append(df['Year'][i])\n",
        "year = np.array(year)\n"
      ],
      "execution_count": null,
      "outputs": []
    },
    {
      "cell_type": "code",
      "metadata": {
        "id": "K-QMfVaNVYuX"
      },
      "source": [
        "# read in concreteness ratings\n",
        "df_conc = pd.read_csv('Concreteness_ratings_Brysbaert_et_al_BRM.txt', encoding='latin-1', \n",
        "                      delimiter='\\t', converters={'Word': str})"
      ],
      "execution_count": null,
      "outputs": []
    },
    {
      "cell_type": "code",
      "metadata": {
        "id": "NNZd6k0PRkcY",
        "outputId": "703316ea-27da-430c-d602-4c81b2d3fda0",
        "colab": {
          "base_uri": "https://localhost:8080/",
          "height": 206
        }
      },
      "source": [
        "df_conc.head()"
      ],
      "execution_count": null,
      "outputs": [
        {
          "output_type": "execute_result",
          "data": {
            "text/plain": [
              "            Word  Bigram  Conc.M  Conc.SD  Unknown  Total  Percent_known  \\\n",
              "0    roadsweeper       0    4.85     0.37        1     27           0.96   \n",
              "1    traindriver       0    4.54     0.71        3     29           0.90   \n",
              "2           tush       0    4.45     1.01        3     25           0.88   \n",
              "3      hairdress       0    3.93     1.28        0     29           1.00   \n",
              "4  pharmaceutics       0    3.77     1.41        4     26           0.85   \n",
              "\n",
              "   SUBTLEX Dom_Pos  \n",
              "0        0       0  \n",
              "1        0       0  \n",
              "2       66       0  \n",
              "3        1       0  \n",
              "4        0       0  "
            ],
            "text/html": [
              "\n",
              "  <div id=\"df-f8d8c1dd-69fb-4d5d-80e8-54330b3968af\">\n",
              "    <div class=\"colab-df-container\">\n",
              "      <div>\n",
              "<style scoped>\n",
              "    .dataframe tbody tr th:only-of-type {\n",
              "        vertical-align: middle;\n",
              "    }\n",
              "\n",
              "    .dataframe tbody tr th {\n",
              "        vertical-align: top;\n",
              "    }\n",
              "\n",
              "    .dataframe thead th {\n",
              "        text-align: right;\n",
              "    }\n",
              "</style>\n",
              "<table border=\"1\" class=\"dataframe\">\n",
              "  <thead>\n",
              "    <tr style=\"text-align: right;\">\n",
              "      <th></th>\n",
              "      <th>Word</th>\n",
              "      <th>Bigram</th>\n",
              "      <th>Conc.M</th>\n",
              "      <th>Conc.SD</th>\n",
              "      <th>Unknown</th>\n",
              "      <th>Total</th>\n",
              "      <th>Percent_known</th>\n",
              "      <th>SUBTLEX</th>\n",
              "      <th>Dom_Pos</th>\n",
              "    </tr>\n",
              "  </thead>\n",
              "  <tbody>\n",
              "    <tr>\n",
              "      <th>0</th>\n",
              "      <td>roadsweeper</td>\n",
              "      <td>0</td>\n",
              "      <td>4.85</td>\n",
              "      <td>0.37</td>\n",
              "      <td>1</td>\n",
              "      <td>27</td>\n",
              "      <td>0.96</td>\n",
              "      <td>0</td>\n",
              "      <td>0</td>\n",
              "    </tr>\n",
              "    <tr>\n",
              "      <th>1</th>\n",
              "      <td>traindriver</td>\n",
              "      <td>0</td>\n",
              "      <td>4.54</td>\n",
              "      <td>0.71</td>\n",
              "      <td>3</td>\n",
              "      <td>29</td>\n",
              "      <td>0.90</td>\n",
              "      <td>0</td>\n",
              "      <td>0</td>\n",
              "    </tr>\n",
              "    <tr>\n",
              "      <th>2</th>\n",
              "      <td>tush</td>\n",
              "      <td>0</td>\n",
              "      <td>4.45</td>\n",
              "      <td>1.01</td>\n",
              "      <td>3</td>\n",
              "      <td>25</td>\n",
              "      <td>0.88</td>\n",
              "      <td>66</td>\n",
              "      <td>0</td>\n",
              "    </tr>\n",
              "    <tr>\n",
              "      <th>3</th>\n",
              "      <td>hairdress</td>\n",
              "      <td>0</td>\n",
              "      <td>3.93</td>\n",
              "      <td>1.28</td>\n",
              "      <td>0</td>\n",
              "      <td>29</td>\n",
              "      <td>1.00</td>\n",
              "      <td>1</td>\n",
              "      <td>0</td>\n",
              "    </tr>\n",
              "    <tr>\n",
              "      <th>4</th>\n",
              "      <td>pharmaceutics</td>\n",
              "      <td>0</td>\n",
              "      <td>3.77</td>\n",
              "      <td>1.41</td>\n",
              "      <td>4</td>\n",
              "      <td>26</td>\n",
              "      <td>0.85</td>\n",
              "      <td>0</td>\n",
              "      <td>0</td>\n",
              "    </tr>\n",
              "  </tbody>\n",
              "</table>\n",
              "</div>\n",
              "      <button class=\"colab-df-convert\" onclick=\"convertToInteractive('df-f8d8c1dd-69fb-4d5d-80e8-54330b3968af')\"\n",
              "              title=\"Convert this dataframe to an interactive table.\"\n",
              "              style=\"display:none;\">\n",
              "        \n",
              "  <svg xmlns=\"http://www.w3.org/2000/svg\" height=\"24px\"viewBox=\"0 0 24 24\"\n",
              "       width=\"24px\">\n",
              "    <path d=\"M0 0h24v24H0V0z\" fill=\"none\"/>\n",
              "    <path d=\"M18.56 5.44l.94 2.06.94-2.06 2.06-.94-2.06-.94-.94-2.06-.94 2.06-2.06.94zm-11 1L8.5 8.5l.94-2.06 2.06-.94-2.06-.94L8.5 2.5l-.94 2.06-2.06.94zm10 10l.94 2.06.94-2.06 2.06-.94-2.06-.94-.94-2.06-.94 2.06-2.06.94z\"/><path d=\"M17.41 7.96l-1.37-1.37c-.4-.4-.92-.59-1.43-.59-.52 0-1.04.2-1.43.59L10.3 9.45l-7.72 7.72c-.78.78-.78 2.05 0 2.83L4 21.41c.39.39.9.59 1.41.59.51 0 1.02-.2 1.41-.59l7.78-7.78 2.81-2.81c.8-.78.8-2.07 0-2.86zM5.41 20L4 18.59l7.72-7.72 1.47 1.35L5.41 20z\"/>\n",
              "  </svg>\n",
              "      </button>\n",
              "      \n",
              "  <style>\n",
              "    .colab-df-container {\n",
              "      display:flex;\n",
              "      flex-wrap:wrap;\n",
              "      gap: 12px;\n",
              "    }\n",
              "\n",
              "    .colab-df-convert {\n",
              "      background-color: #E8F0FE;\n",
              "      border: none;\n",
              "      border-radius: 50%;\n",
              "      cursor: pointer;\n",
              "      display: none;\n",
              "      fill: #1967D2;\n",
              "      height: 32px;\n",
              "      padding: 0 0 0 0;\n",
              "      width: 32px;\n",
              "    }\n",
              "\n",
              "    .colab-df-convert:hover {\n",
              "      background-color: #E2EBFA;\n",
              "      box-shadow: 0px 1px 2px rgba(60, 64, 67, 0.3), 0px 1px 3px 1px rgba(60, 64, 67, 0.15);\n",
              "      fill: #174EA6;\n",
              "    }\n",
              "\n",
              "    [theme=dark] .colab-df-convert {\n",
              "      background-color: #3B4455;\n",
              "      fill: #D2E3FC;\n",
              "    }\n",
              "\n",
              "    [theme=dark] .colab-df-convert:hover {\n",
              "      background-color: #434B5C;\n",
              "      box-shadow: 0px 1px 3px 1px rgba(0, 0, 0, 0.15);\n",
              "      filter: drop-shadow(0px 1px 2px rgba(0, 0, 0, 0.3));\n",
              "      fill: #FFFFFF;\n",
              "    }\n",
              "  </style>\n",
              "\n",
              "      <script>\n",
              "        const buttonEl =\n",
              "          document.querySelector('#df-f8d8c1dd-69fb-4d5d-80e8-54330b3968af button.colab-df-convert');\n",
              "        buttonEl.style.display =\n",
              "          google.colab.kernel.accessAllowed ? 'block' : 'none';\n",
              "\n",
              "        async function convertToInteractive(key) {\n",
              "          const element = document.querySelector('#df-f8d8c1dd-69fb-4d5d-80e8-54330b3968af');\n",
              "          const dataTable =\n",
              "            await google.colab.kernel.invokeFunction('convertToInteractive',\n",
              "                                                     [key], {});\n",
              "          if (!dataTable) return;\n",
              "\n",
              "          const docLinkHtml = 'Like what you see? Visit the ' +\n",
              "            '<a target=\"_blank\" href=https://colab.research.google.com/notebooks/data_table.ipynb>data table notebook</a>'\n",
              "            + ' to learn more about interactive tables.';\n",
              "          element.innerHTML = '';\n",
              "          dataTable['output_type'] = 'display_data';\n",
              "          await google.colab.output.renderOutput(dataTable, element);\n",
              "          const docLink = document.createElement('div');\n",
              "          docLink.innerHTML = docLinkHtml;\n",
              "          element.appendChild(docLink);\n",
              "        }\n",
              "      </script>\n",
              "    </div>\n",
              "  </div>\n",
              "  "
            ]
          },
          "metadata": {},
          "execution_count": 26
        }
      ]
    },
    {
      "cell_type": "code",
      "metadata": {
        "id": "sNv1CkgcjlOn"
      },
      "source": [
        "conc_dict = {df_conc['Word'][i]: df_conc['Conc.M'][i] for i in range(len(df_conc['Word']))}"
      ],
      "execution_count": null,
      "outputs": []
    },
    {
      "cell_type": "code",
      "metadata": {
        "id": "s_C6hsa1j5jl"
      },
      "source": [
        "# check lyrics concreteness against the rating table\n",
        "concValue=[]\n",
        "for text in lemmatized_lyrics:\n",
        "  concValueList = []\n",
        "  for word in text:\n",
        "    try:\n",
        "      concValueList.append(conc_dict[word])\n",
        "    except Exception as inst:\n",
        "      pass\n",
        "  concValue.append(np.mean(np.array(concValueList)))"
      ],
      "execution_count": null,
      "outputs": []
    },
    {
      "cell_type": "code",
      "metadata": {
        "id": "Sl_mILGISwGZ",
        "outputId": "9b4c5d61-54ff-4b70-84cc-c5cc242ae86b",
        "colab": {
          "base_uri": "https://localhost:8080/",
          "height": 282
        }
      },
      "source": [
        "# draw it\n",
        "concValue=np.array(concValue)\n",
        "concValueYear=[]\n",
        "for y in range(1965, 2015):\n",
        "  concValueYear.append(np.mean(concValue[np.where(year==y)]))\n",
        "concValueYear=np.array(concValueYear)\n",
        "plt.figure()\n",
        "plt.plot(concValueYear)"
      ],
      "execution_count": null,
      "outputs": [
        {
          "output_type": "execute_result",
          "data": {
            "text/plain": [
              "[<matplotlib.lines.Line2D at 0x7f41cc76b700>]"
            ]
          },
          "metadata": {},
          "execution_count": 20
        },
        {
          "output_type": "display_data",
          "data": {
            "text/plain": [
              "<Figure size 432x288 with 1 Axes>"
            ],
            "image/png": "[encoded data removed]"
          },
          "metadata": {
            "needs_background": "light"
          }
        }
      ]
    }
  ]
}